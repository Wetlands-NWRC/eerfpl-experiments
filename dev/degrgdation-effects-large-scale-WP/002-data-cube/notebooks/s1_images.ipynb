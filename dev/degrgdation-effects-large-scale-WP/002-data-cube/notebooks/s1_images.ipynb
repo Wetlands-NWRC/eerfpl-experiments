{
 "cells": [
  {
   "cell_type": "code",
   "execution_count": 1,
   "metadata": {},
   "outputs": [],
   "source": [
    "from __future__ import annotations\n",
    "\n",
    "from datetime import  datetime\n",
    "import ee\n",
    "import geemap\n",
    "from eelib import collections, eefuncs"
   ]
  },
  {
   "cell_type": "code",
   "execution_count": 2,
   "metadata": {},
   "outputs": [
    {
     "name": "stdout",
     "output_type": "stream",
     "text": [
      "Spring:('2018-05-15', '2018-06-30')\n",
      "Summer:('2018-07-01', '2018-08-31')\n",
      "Fall:('2018-09-01', '2018-10-27')\n"
     ]
    }
   ],
   "source": [
    "TARGET_YEAR = '2018'\n",
    "\n",
    "# set date ranges\n",
    "doys = 135, 181, 182, 243, 244, 300 \n",
    "\n",
    "def to_datetime(doys: tuple[str]):\n",
    "    \n",
    "    # julain days parse to YYYY MM dd\n",
    "    def to_dt(doy: int) -> str:\n",
    "        doy = datetime.strptime(f'{TARGET_YEAR}{doy}', '%Y%j')\n",
    "        return doy.strftime(\"%Y-%m-%d\")\n",
    "    \n",
    "    return tuple(map(to_dt, doys))\n",
    "dates = to_datetime(doys)\n",
    "\n",
    "spring, summer, fall = dates[:2], dates[2:4], dates[4:]\n",
    "print(f'Spring:{spring}')\n",
    "print(f'Summer:{summer}')\n",
    "print(f'Fall:{fall}')\n",
    "    \n"
   ]
  },
  {
   "cell_type": "code",
   "execution_count": 3,
   "metadata": {},
   "outputs": [],
   "source": [
    "viewport = collections.FeatureCollection.from_file(\n",
    "    filename=\"../../000-data/intersection_64.shp\",\n",
    "    driver='ESRI Shapefile'\n",
    ")\n",
    "\n",
    "base = collections.S1Collection().\\\n",
    "    filterBounds(viewport).\\\n",
    "    filter('relativeOrbitNumber_start == 64').map(eefuncs.insert_groupid)\n",
    "\n",
    "seasons = {\n",
    "    'spring': {'collection': base.filterDate(*spring), 'date': spring},\n",
    "    'summer': {'collection': base.filterDate(*summer),'date': summer},\n",
    "    'fall': {'collection': base.filterDate(*fall),'date': fall}\n",
    "}\n"
   ]
  },
  {
   "cell_type": "code",
   "execution_count": 4,
   "metadata": {},
   "outputs": [
    {
     "name": "stdout",
     "output_type": "stream",
     "text": [
      "spring: Days from Mid\n",
      "[2, 9, 14, 21]\n",
      "12\n",
      "summer: Days from Mid\n",
      "[4, 16, 28]\n",
      "8\n",
      "fall: Days from Mid\n",
      "[15]\n",
      "3\n"
     ]
    }
   ],
   "source": [
    "# set the mid date for each season and difference the days\n",
    "for season, obj in seasons.items():\n",
    "    dates = (ee.Date(_) for _ in obj.get('date'))\n",
    "    mid_point = eefuncs.get_mid_point(dates)\n",
    "    \n",
    "    # update the collection inplace\n",
    "    trg =  eefuncs.days_from_mid(\n",
    "        collection=obj.get('collection'),\n",
    "        midPoint = mid_point\n",
    "    )\n",
    "    \n",
    "    trg = trg.map(lambda x: x.set('season', season))\n",
    "    \n",
    "    print(f\"{season}: Days from Mid\")\n",
    "    print(trg.aggregate_array('dfm').distinct().sort().getInfo())\n",
    "    print(trg.size().getInfo())\n",
    "\n",
    "    obj['collection'] = trg"
   ]
  },
  {
   "cell_type": "code",
   "execution_count": 5,
   "metadata": {},
   "outputs": [],
   "source": [
    "# query the collections based on days\n",
    "\n",
    "# Full coverage = dfms == [2, 16, 9]\n",
    "\n",
    "spring_images = seasons.get('spring').get('collection').filter('dfm == 2')\n",
    "summer_images = seasons.get('summer').get('collection').filter('dfm == 16')\n",
    "fall_images = seasons.get('fall').get('collection').filter('dfm == 15')\n"
   ]
  },
  {
   "cell_type": "code",
   "execution_count": 6,
   "metadata": {},
   "outputs": [
    {
     "name": "stdout",
     "output_type": "stream",
     "text": [
      "['64_-122.36', '64_-122.83', '64_-123.37']\n",
      "['64_-122.36', '64_-122.83', '64_-123.37']\n",
      "['64_-122.47', '64_-122.94', '64_-123.33']\n"
     ]
    }
   ],
   "source": [
    "print(spring_images.aggregate_array('groupid').getInfo())\n",
    "print(summer_images.aggregate_array('groupid').getInfo())\n",
    "print(fall_images.aggregate_array('groupid').getInfo())"
   ]
  },
  {
   "cell_type": "code",
   "execution_count": 10,
   "metadata": {},
   "outputs": [
    {
     "ename": "EEException",
     "evalue": "ImageCollection.fromImages, argument 'images': Invalid type.\nExpected type: List<Image<unknown bands>>.\nActual type: List<ImageCollection>.\nActual value: [<ImageCollection>, <ImageCollection>, <ImageCollection>]",
     "output_type": "error",
     "traceback": [
      "\u001b[1;31m---------------------------------------------------------------------------\u001b[0m",
      "\u001b[1;31mHttpError\u001b[0m                                 Traceback (most recent call last)",
      "File \u001b[1;32mc:\\Users\\ryanh\\miniconda3\\envs\\eerfpl-env\\lib\\site-packages\\ee\\data.py:328\u001b[0m, in \u001b[0;36m_execute_cloud_call\u001b[1;34m(call, num_retries)\u001b[0m\n\u001b[0;32m    327\u001b[0m \u001b[39mtry\u001b[39;00m:\n\u001b[1;32m--> 328\u001b[0m   \u001b[39mreturn\u001b[39;00m call\u001b[39m.\u001b[39;49mexecute(num_retries\u001b[39m=\u001b[39;49mnum_retries)\n\u001b[0;32m    329\u001b[0m \u001b[39mexcept\u001b[39;00m googleapiclient\u001b[39m.\u001b[39merrors\u001b[39m.\u001b[39mHttpError \u001b[39mas\u001b[39;00m e:\n",
      "File \u001b[1;32mc:\\Users\\ryanh\\miniconda3\\envs\\eerfpl-env\\lib\\site-packages\\googleapiclient\\_helpers.py:130\u001b[0m, in \u001b[0;36mpositional.<locals>.positional_decorator.<locals>.positional_wrapper\u001b[1;34m(*args, **kwargs)\u001b[0m\n\u001b[0;32m    129\u001b[0m         logger\u001b[39m.\u001b[39mwarning(message)\n\u001b[1;32m--> 130\u001b[0m \u001b[39mreturn\u001b[39;00m wrapped(\u001b[39m*\u001b[39margs, \u001b[39m*\u001b[39m\u001b[39m*\u001b[39mkwargs)\n",
      "File \u001b[1;32mc:\\Users\\ryanh\\miniconda3\\envs\\eerfpl-env\\lib\\site-packages\\googleapiclient\\http.py:938\u001b[0m, in \u001b[0;36mHttpRequest.execute\u001b[1;34m(self, http, num_retries)\u001b[0m\n\u001b[0;32m    937\u001b[0m \u001b[39mif\u001b[39;00m resp\u001b[39m.\u001b[39mstatus \u001b[39m>\u001b[39m\u001b[39m=\u001b[39m \u001b[39m300\u001b[39m:\n\u001b[1;32m--> 938\u001b[0m     \u001b[39mraise\u001b[39;00m HttpError(resp, content, uri\u001b[39m=\u001b[39m\u001b[39mself\u001b[39m\u001b[39m.\u001b[39muri)\n\u001b[0;32m    939\u001b[0m \u001b[39mreturn\u001b[39;00m \u001b[39mself\u001b[39m\u001b[39m.\u001b[39mpostproc(resp, content)\n",
      "\u001b[1;31mHttpError\u001b[0m: <HttpError 400 when requesting https://earthengine.googleapis.com/v1alpha/projects/earthengine-legacy/value:compute?prettyPrint=false&alt=json returned \"ImageCollection.fromImages, argument 'images': Invalid type.\nExpected type: List<Image<unknown bands>>.\nActual type: List<ImageCollection>.\nActual value: [<ImageCollection>, <ImageCollection>, <ImageCollection>]\". Details: \"ImageCollection.fromImages, argument 'images': Invalid type.\nExpected type: List<Image<unknown bands>>.\nActual type: List<ImageCollection>.\nActual value: [<ImageCollection>, <ImageCollection>, <ImageCollection>]\">",
      "\nDuring handling of the above exception, another exception occurred:\n",
      "\u001b[1;31mEEException\u001b[0m                               Traceback (most recent call last)",
      "Cell \u001b[1;32mIn[10], line 5\u001b[0m\n\u001b[0;32m      2\u001b[0m col \u001b[39m=\u001b[39m ee\u001b[39m.\u001b[39mImageCollection(col_list)\u001b[39m.\u001b[39mflatten()\n\u001b[0;32m      3\u001b[0m \u001b[39mfrom\u001b[39;00m \u001b[39mpprint\u001b[39;00m \u001b[39mimport\u001b[39;00m pprint\n\u001b[1;32m----> 5\u001b[0m pprint(col\u001b[39m.\u001b[39;49mfirst()\u001b[39m.\u001b[39;49mgetInfo())\n",
      "File \u001b[1;32mc:\\Users\\ryanh\\miniconda3\\envs\\eerfpl-env\\lib\\site-packages\\ee\\computedobject.py:98\u001b[0m, in \u001b[0;36mComputedObject.getInfo\u001b[1;34m(self)\u001b[0m\n\u001b[0;32m     92\u001b[0m \u001b[39mdef\u001b[39;00m \u001b[39mgetInfo\u001b[39m(\u001b[39mself\u001b[39m):\n\u001b[0;32m     93\u001b[0m   \u001b[39m\"\"\"Fetch and return information about this object.\u001b[39;00m\n\u001b[0;32m     94\u001b[0m \n\u001b[0;32m     95\u001b[0m \u001b[39m  Returns:\u001b[39;00m\n\u001b[0;32m     96\u001b[0m \u001b[39m    The object can evaluate to anything.\u001b[39;00m\n\u001b[0;32m     97\u001b[0m \u001b[39m  \"\"\"\u001b[39;00m\n\u001b[1;32m---> 98\u001b[0m   \u001b[39mreturn\u001b[39;00m data\u001b[39m.\u001b[39;49mcomputeValue(\u001b[39mself\u001b[39;49m)\n",
      "File \u001b[1;32mc:\\Users\\ryanh\\miniconda3\\envs\\eerfpl-env\\lib\\site-packages\\ee\\data.py:764\u001b[0m, in \u001b[0;36mcomputeValue\u001b[1;34m(obj)\u001b[0m\n\u001b[0;32m    761\u001b[0m \u001b[39mif\u001b[39;00m workload_tag:\n\u001b[0;32m    762\u001b[0m   body[\u001b[39m'\u001b[39m\u001b[39mworkloadTag\u001b[39m\u001b[39m'\u001b[39m] \u001b[39m=\u001b[39m workload_tag\n\u001b[1;32m--> 764\u001b[0m \u001b[39mreturn\u001b[39;00m _execute_cloud_call(\n\u001b[0;32m    765\u001b[0m     _get_cloud_api_resource()\u001b[39m.\u001b[39;49mprojects()\u001b[39m.\u001b[39;49mvalue()\u001b[39m.\u001b[39;49mcompute(\n\u001b[0;32m    766\u001b[0m         body\u001b[39m=\u001b[39;49mbody,\n\u001b[0;32m    767\u001b[0m         project\u001b[39m=\u001b[39;49m_get_projects_path(),\n\u001b[0;32m    768\u001b[0m         prettyPrint\u001b[39m=\u001b[39;49m\u001b[39mFalse\u001b[39;49;00m))[\u001b[39m'\u001b[39m\u001b[39mresult\u001b[39m\u001b[39m'\u001b[39m]\n",
      "File \u001b[1;32mc:\\Users\\ryanh\\miniconda3\\envs\\eerfpl-env\\lib\\site-packages\\ee\\data.py:330\u001b[0m, in \u001b[0;36m_execute_cloud_call\u001b[1;34m(call, num_retries)\u001b[0m\n\u001b[0;32m    328\u001b[0m   \u001b[39mreturn\u001b[39;00m call\u001b[39m.\u001b[39mexecute(num_retries\u001b[39m=\u001b[39mnum_retries)\n\u001b[0;32m    329\u001b[0m \u001b[39mexcept\u001b[39;00m googleapiclient\u001b[39m.\u001b[39merrors\u001b[39m.\u001b[39mHttpError \u001b[39mas\u001b[39;00m e:\n\u001b[1;32m--> 330\u001b[0m   \u001b[39mraise\u001b[39;00m _translate_cloud_exception(e)\n",
      "\u001b[1;31mEEException\u001b[0m: ImageCollection.fromImages, argument 'images': Invalid type.\nExpected type: List<Image<unknown bands>>.\nActual type: List<ImageCollection>.\nActual value: [<ImageCollection>, <ImageCollection>, <ImageCollection>]"
     ]
    }
   ],
   "source": [
    "col_list = [spring_images.toList(spring_images.size()),\n",
    "            summer_images.toList(summer_images.size()),\n",
    "            fall_images.toList(fall_images.size())]\n",
    "\n"
   ]
  },
  {
   "cell_type": "code",
   "execution_count": 7,
   "metadata": {},
   "outputs": [
    {
     "data": {
      "application/vnd.jupyter.widget-view+json": {
       "model_id": "cf23decb90b748b9a24f3f322916521a",
       "version_major": 2,
       "version_minor": 0
      },
      "text/plain": [
       "Map(center=[20, 0], controls=(WidgetControl(options=['position', 'transparent_bg'], widget=HBox(children=(Togg…"
      ]
     },
     "metadata": {},
     "output_type": "display_data"
    }
   ],
   "source": [
    "Map = geemap.Map()\n",
    "\n",
    "Map"
   ]
  },
  {
   "cell_type": "code",
   "execution_count": 8,
   "metadata": {},
   "outputs": [],
   "source": [
    "vis = {'bands': ['VV'], 'min': -25, 'max': 10}\n",
    "\n",
    "Map.addLayer(spring_images, vis, 'Spring')\n",
    "Map.addLayer(summer_images, vis, 'Summer')\n",
    "Map.addLayer(fall_images, vis, 'Fall')\n",
    "Map.addLayer(viewport, {}, 'View Port')\n",
    "Map.addLayerControl()\n"
   ]
  },
  {
   "cell_type": "code",
   "execution_count": null,
   "metadata": {},
   "outputs": [],
   "source": []
  }
 ],
 "metadata": {
  "kernelspec": {
   "display_name": "eerfpl-env",
   "language": "python",
   "name": "python3"
  },
  "language_info": {
   "codemirror_mode": {
    "name": "ipython",
    "version": 3
   },
   "file_extension": ".py",
   "mimetype": "text/x-python",
   "name": "python",
   "nbconvert_exporter": "python",
   "pygments_lexer": "ipython3",
   "version": "3.10.8 | packaged by conda-forge | (main, Nov 22 2022, 08:16:33) [MSC v.1929 64 bit (AMD64)]"
  },
  "orig_nbformat": 4,
  "vscode": {
   "interpreter": {
    "hash": "b35acdfd07afa3708d1f20e7b56ba5caae7c4b065d4c1d4fcfd7630ad4acab5c"
   }
  }
 },
 "nbformat": 4,
 "nbformat_minor": 2
}
