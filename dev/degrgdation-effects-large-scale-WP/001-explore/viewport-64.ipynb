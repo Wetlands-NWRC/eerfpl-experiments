{
 "cells": [
  {
   "cell_type": "code",
   "execution_count": 22,
   "id": "f4665974",
   "metadata": {},
   "outputs": [],
   "source": [
    "import ee\n",
    "import geemap\n",
    "\n",
    "from eelib import collections"
   ]
  },
  {
   "cell_type": "code",
   "execution_count": 23,
   "id": "7274619d",
   "metadata": {},
   "outputs": [
    {
     "data": {
      "application/vnd.jupyter.widget-view+json": {
       "model_id": "eba55fc7912d4e12a235dc8a99967272",
       "version_major": 2,
       "version_minor": 0
      },
      "text/plain": [
       "Map(center=[20, 0], controls=(WidgetControl(options=['position', 'transparent_bg'], widget=HBox(children=(Togg…"
      ]
     },
     "metadata": {},
     "output_type": "display_data"
    }
   ],
   "source": [
    "Map = geemap.Map()\n",
    "Map"
   ]
  },
  {
   "cell_type": "code",
   "execution_count": 52,
   "id": "d7f6da5b",
   "metadata": {},
   "outputs": [],
   "source": [
    "def maskS2Clouds(image):\n",
    "    qa = image.select('QA60')\n",
    "    cloudBitMask = 1 << 10\n",
    "    cirrusBitMask = 2 << 11\n",
    "    \n",
    "    mask = qa.bitwiseAnd(cloudBitMask).eq(0).And(qa.bitwiseAnd(cirrusBitMask).eq(0))\n",
    "    \n",
    "    return image.updateMask(mask)\n",
    "\n",
    "# Adds Earth Engine dataset\n",
    "image = ee.ImageCollection(\"projects/fpca-336015/assets/williston-cba\").geometry().dissolve()\n",
    "\n",
    "\n",
    "# Sentinel - 1 \n",
    "# s1 = collections.S1Collection().filterBounds(image).filter('relativeOrbitNumber_start == 64').filterDate('2018-05-01', '2018-06-01').geometry().dissolve()\n",
    "\n",
    "# Intersect of Data Cube and Sentinel - 1\n",
    "intersection = s1.intersection(image)\n",
    "\n",
    "# Sets visualization parameters.\n",
    "vis_params = {\n",
    "        'min': 0,\n",
    "        'max': 4000,\n",
    "        'bands': ['B4', 'B3', 'B2']}\n",
    "\n",
    "\n",
    "# Adds Earth Engine layers to Map\n",
    "Map.addLayer(s1, {}, 'SRTM DEM')\n",
    "Map.addLayer(image, {}, 'Geometry')\n",
    "Map.addLayer(intersection, {}, 'intersection')\n",
    "# Map.centerObject(xy, 13)\n",
    "\n",
    "# Display the Map\n",
    "Map.addLayerControl()"
   ]
  },
  {
   "cell_type": "code",
   "execution_count": 26,
   "id": "8e7e4305",
   "metadata": {},
   "outputs": [
    {
     "data": {
      "text/plain": [
       "True"
      ]
     },
     "execution_count": 26,
     "metadata": {},
     "output_type": "execute_result"
    }
   ],
   "source": [
    "isinstance(intersection, ee.Geometry)"
   ]
  },
  {
   "cell_type": "code",
   "execution_count": 55,
   "id": "35e73fac",
   "metadata": {},
   "outputs": [
    {
     "name": "stdout",
     "output_type": "stream",
     "text": [
      "264\n"
     ]
    }
   ],
   "source": [
    "s2 = collections.S2TOACollection().filterBounds(intersection).filterDate('2018-06-21', '2018-09-20').filter('CLOUDY_PIXEL_PERCENTAGE < 20').sort('CLOUDY_PIXEL_PERCENTAGE')\n",
    "print(s2.size().getInfo())\n",
    "s2 = s2.map(maskS2Clouds)"
   ]
  },
  {
   "cell_type": "code",
   "execution_count": 56,
   "id": "141ccb6a",
   "metadata": {},
   "outputs": [],
   "source": [
    "Map.addLayer(s2, vis_params, 'Sentinel - 2')\n",
    "Map.addLayer(intersection, {}, 'intersection')"
   ]
  },
  {
   "cell_type": "code",
   "execution_count": null,
   "id": "49a97e8c",
   "metadata": {},
   "outputs": [],
   "source": []
  }
 ],
 "metadata": {
  "kernelspec": {
   "display_name": "ArcGISPro",
   "language": "Python",
   "name": "python3"
  },
  "language_info": {
   "file_extension": ".py",
   "name": "python",
   "version": "3"
  }
 },
 "nbformat": 4,
 "nbformat_minor": 5
}
