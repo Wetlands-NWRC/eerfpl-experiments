{
 "cells": [
  {
   "cell_type": "code",
   "execution_count": 2,
   "id": "f4665974",
   "metadata": {},
   "outputs": [],
   "source": [
    "import ee\n",
    "import geemap\n",
    "\n",
    "from eelib import collections"
   ]
  },
  {
   "cell_type": "code",
   "execution_count": 3,
   "id": "7274619d",
   "metadata": {},
   "outputs": [
    {
     "data": {
      "application/vnd.jupyter.widget-view+json": {
       "model_id": "168a407bc36d4d86b17b544a7675e49b",
       "version_major": 2,
       "version_minor": 0
      },
      "text/plain": [
       "Map(center=[20, 0], controls=(WidgetControl(options=['position', 'transparent_bg'], widget=HBox(children=(Togg…"
      ]
     },
     "metadata": {},
     "output_type": "display_data"
    }
   ],
   "source": [
    "Map = geemap.Map()\n",
    "Map"
   ]
  },
  {
   "cell_type": "code",
   "execution_count": 4,
   "id": "d7f6da5b",
   "metadata": {},
   "outputs": [],
   "source": [
    "def maskS2Clouds(image):\n",
    "    qa = image.select('QA60')\n",
    "    cloudBitMask = 1 << 10\n",
    "    cirrusBitMask = 2 << 11\n",
    "    \n",
    "    mask = qa.bitwiseAnd(cloudBitMask).eq(0).And(qa.bitwiseAnd(cirrusBitMask).eq(0))\n",
    "    \n",
    "    return image.updateMask(mask)\n",
    "\n",
    "# Adds Earth Engine dataset\n",
    "image = ee.ImageCollection(\"projects/fpca-336015/assets/williston-cba\").geometry().dissolve()\n",
    "\n",
    "\n",
    "# Sentinel - 1 \n",
    "s1 = collections.S1Collection().filterBounds(image)\\\n",
    "    .filter('relativeOrbitNumber_start == 64')\\\n",
    "    .filterDate('2018-05-01', '2018-06-01').geometry().dissolve()\n",
    "\n",
    "# Intersect of Data Cube and Sentinel - 1\n",
    "intersection = s1.intersection(image)\n",
    "\n",
    "# Sets visualization parameters.\n",
    "vis_params = {\n",
    "        'min': 0,\n",
    "        'max': 4000,\n",
    "        'bands': ['B4', 'B3', 'B2']}\n",
    "\n",
    "\n",
    "# Adds Earth Engine layers to Map\n",
    "Map.addLayer(s1, {}, 'SRTM DEM')\n",
    "Map.addLayer(image, {}, 'Geometry')\n",
    "Map.addLayer(intersection, {}, 'intersection')\n",
    "# Map.centerObject(xy, 13)\n",
    "\n",
    "# Display the Map\n",
    "Map.addLayerControl()"
   ]
  },
  {
   "cell_type": "code",
   "execution_count": 9,
   "id": "8e7e4305",
   "metadata": {},
   "outputs": [],
   "source": [
    "from pprint import pprint\n",
    "import geopandas as gpd\n",
    "\n",
    "\n",
    "collection = ee.FeatureCollection(ee.Feature(intersection, {'id': '64 Instersect'}))\n",
    "features = collection.getInfo().get('features')\n",
    "\n",
    "df = gpd.GeoDataFrame.from_features(features).set_crs(4326)\n",
    "df.to_file(filename=\"../000-data/intersection_64.shp\", driver=\"ESRI Shapefile\")"
   ]
  },
  {
   "cell_type": "code",
   "execution_count": 55,
   "id": "35e73fac",
   "metadata": {},
   "outputs": [
    {
     "name": "stdout",
     "output_type": "stream",
     "text": [
      "264\n"
     ]
    }
   ],
   "source": [
    "s2 = collections.S2TOACollection().filterBounds(intersection).filterDate('2018-06-21', '2018-09-20').filter('CLOUDY_PIXEL_PERCENTAGE < 20').sort('CLOUDY_PIXEL_PERCENTAGE')\n",
    "print(s2.size().getInfo())\n",
    "s2 = s2.map(maskS2Clouds)"
   ]
  },
  {
   "cell_type": "code",
   "execution_count": 56,
   "id": "141ccb6a",
   "metadata": {},
   "outputs": [],
   "source": [
    "Map.addLayer(s2, vis_params, 'Sentinel - 2')\n",
    "Map.addLayer(intersection, {}, 'intersection')"
   ]
  },
  {
   "cell_type": "code",
   "execution_count": null,
   "id": "49a97e8c",
   "metadata": {},
   "outputs": [],
   "source": []
  }
 ],
 "metadata": {
  "kernelspec": {
   "display_name": "eerfpl-env",
   "language": "python",
   "name": "python3"
  },
  "language_info": {
   "codemirror_mode": {
    "name": "ipython",
    "version": 3
   },
   "file_extension": ".py",
   "mimetype": "text/x-python",
   "name": "python",
   "nbconvert_exporter": "python",
   "pygments_lexer": "ipython3",
   "version": "3.10.8"
  },
  "vscode": {
   "interpreter": {
    "hash": "c8f4b1d470280b34a6cedff055f3b130e424525e4b486d715cc3d1ad629e85f3"
   }
  }
 },
 "nbformat": 4,
 "nbformat_minor": 5
}
